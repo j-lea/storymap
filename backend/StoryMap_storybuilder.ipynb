{
  "nbformat": 4,
  "nbformat_minor": 0,
  "metadata": {
    "colab": {
      "provenance": [],
      "gpuType": "T4"
    },
    "kernelspec": {
      "name": "python3",
      "display_name": "Python 3"
    },
    "language_info": {
      "name": "python"
    },
    "accelerator": "GPU"
  },
  "cells": [
    {
      "cell_type": "markdown",
      "source": [],
      "metadata": {
        "id": "Xsz2VXg-FHG3"
      }
    },
    {
      "cell_type": "code",
      "source": [
        "import google.generativeai as genai\n",
        "import os\n",
        "from google.colab import files\n"
      ],
      "metadata": {
        "id": "VMaYRrJcHR2j"
      },
      "execution_count": 2,
      "outputs": []
    },
    {
      "cell_type": "code",
      "source": [
        "import pandas as pd\n",
        "import numpy as np\n"
      ],
      "metadata": {
        "id": "NWA949KHHUYr"
      },
      "execution_count": 3,
      "outputs": []
    },
    {
      "cell_type": "code",
      "execution_count": 14,
      "metadata": {
        "id": "OCxVTDVFEdMV"
      },
      "outputs": [],
      "source": [
        "#-----SETUP------\n",
        "#os.environ[\"GEMINI_API_KEY\"] = \"YOUR_KEY_HERE\"\n",
        "genai.configure(api_key=os.environ[\"GEMINI_API_KEY\"])\n",
        "model = genai.GenerativeModel(\"gemini-2.5-flash\")\n"
      ]
    },
    {
      "cell_type": "code",
      "source": [
        "#----INPUTS------\n",
        "coordinates = pd.read_csv(\"storymap_coordinates.csv\")\n",
        "\n",
        "#mock up of user input\n",
        "user_input = {'run_mode': ['interval'],\n",
        "              'target_pace': [8],\n",
        "              'storyline': ['Wicked']}\n",
        "\n",
        "user_input = pd.DataFrame(data=user_input)"
      ],
      "metadata": {
        "id": "sVZeCqbrG6Od"
      },
      "execution_count": 15,
      "outputs": []
    },
    {
      "cell_type": "code",
      "source": [
        "user_input"
      ],
      "metadata": {
        "colab": {
          "base_uri": "https://localhost:8080/",
          "height": 89
        },
        "id": "x08yel3XNQx4",
        "outputId": "d4d92681-faa5-4e2b-f7d6-ad29a4514aaa"
      },
      "execution_count": 16,
      "outputs": [
        {
          "output_type": "execute_result",
          "data": {
            "text/plain": [
              "   run_mode  target_pace storyline\n",
              "0  interval            8    Wicked"
            ],
            "text/html": [
              "\n",
              "  <div id=\"df-91b74757-e108-4764-a7c9-c17b769e1475\" class=\"colab-df-container\">\n",
              "    <div>\n",
              "<style scoped>\n",
              "    .dataframe tbody tr th:only-of-type {\n",
              "        vertical-align: middle;\n",
              "    }\n",
              "\n",
              "    .dataframe tbody tr th {\n",
              "        vertical-align: top;\n",
              "    }\n",
              "\n",
              "    .dataframe thead th {\n",
              "        text-align: right;\n",
              "    }\n",
              "</style>\n",
              "<table border=\"1\" class=\"dataframe\">\n",
              "  <thead>\n",
              "    <tr style=\"text-align: right;\">\n",
              "      <th></th>\n",
              "      <th>run_mode</th>\n",
              "      <th>target_pace</th>\n",
              "      <th>storyline</th>\n",
              "    </tr>\n",
              "  </thead>\n",
              "  <tbody>\n",
              "    <tr>\n",
              "      <th>0</th>\n",
              "      <td>interval</td>\n",
              "      <td>8</td>\n",
              "      <td>Wicked</td>\n",
              "    </tr>\n",
              "  </tbody>\n",
              "</table>\n",
              "</div>\n",
              "    <div class=\"colab-df-buttons\">\n",
              "\n",
              "  <div class=\"colab-df-container\">\n",
              "    <button class=\"colab-df-convert\" onclick=\"convertToInteractive('df-91b74757-e108-4764-a7c9-c17b769e1475')\"\n",
              "            title=\"Convert this dataframe to an interactive table.\"\n",
              "            style=\"display:none;\">\n",
              "\n",
              "  <svg xmlns=\"http://www.w3.org/2000/svg\" height=\"24px\" viewBox=\"0 -960 960 960\">\n",
              "    <path d=\"M120-120v-720h720v720H120Zm60-500h600v-160H180v160Zm220 220h160v-160H400v160Zm0 220h160v-160H400v160ZM180-400h160v-160H180v160Zm440 0h160v-160H620v160ZM180-180h160v-160H180v160Zm440 0h160v-160H620v160Z\"/>\n",
              "  </svg>\n",
              "    </button>\n",
              "\n",
              "  <style>\n",
              "    .colab-df-container {\n",
              "      display:flex;\n",
              "      gap: 12px;\n",
              "    }\n",
              "\n",
              "    .colab-df-convert {\n",
              "      background-color: #E8F0FE;\n",
              "      border: none;\n",
              "      border-radius: 50%;\n",
              "      cursor: pointer;\n",
              "      display: none;\n",
              "      fill: #1967D2;\n",
              "      height: 32px;\n",
              "      padding: 0 0 0 0;\n",
              "      width: 32px;\n",
              "    }\n",
              "\n",
              "    .colab-df-convert:hover {\n",
              "      background-color: #E2EBFA;\n",
              "      box-shadow: 0px 1px 2px rgba(60, 64, 67, 0.3), 0px 1px 3px 1px rgba(60, 64, 67, 0.15);\n",
              "      fill: #174EA6;\n",
              "    }\n",
              "\n",
              "    .colab-df-buttons div {\n",
              "      margin-bottom: 4px;\n",
              "    }\n",
              "\n",
              "    [theme=dark] .colab-df-convert {\n",
              "      background-color: #3B4455;\n",
              "      fill: #D2E3FC;\n",
              "    }\n",
              "\n",
              "    [theme=dark] .colab-df-convert:hover {\n",
              "      background-color: #434B5C;\n",
              "      box-shadow: 0px 1px 3px 1px rgba(0, 0, 0, 0.15);\n",
              "      filter: drop-shadow(0px 1px 2px rgba(0, 0, 0, 0.3));\n",
              "      fill: #FFFFFF;\n",
              "    }\n",
              "  </style>\n",
              "\n",
              "    <script>\n",
              "      const buttonEl =\n",
              "        document.querySelector('#df-91b74757-e108-4764-a7c9-c17b769e1475 button.colab-df-convert');\n",
              "      buttonEl.style.display =\n",
              "        google.colab.kernel.accessAllowed ? 'block' : 'none';\n",
              "\n",
              "      async function convertToInteractive(key) {\n",
              "        const element = document.querySelector('#df-91b74757-e108-4764-a7c9-c17b769e1475');\n",
              "        const dataTable =\n",
              "          await google.colab.kernel.invokeFunction('convertToInteractive',\n",
              "                                                    [key], {});\n",
              "        if (!dataTable) return;\n",
              "\n",
              "        const docLinkHtml = 'Like what you see? Visit the ' +\n",
              "          '<a target=\"_blank\" href=https://colab.research.google.com/notebooks/data_table.ipynb>data table notebook</a>'\n",
              "          + ' to learn more about interactive tables.';\n",
              "        element.innerHTML = '';\n",
              "        dataTable['output_type'] = 'display_data';\n",
              "        await google.colab.output.renderOutput(dataTable, element);\n",
              "        const docLink = document.createElement('div');\n",
              "        docLink.innerHTML = docLinkHtml;\n",
              "        element.appendChild(docLink);\n",
              "      }\n",
              "    </script>\n",
              "  </div>\n",
              "\n",
              "\n",
              "  <div id=\"id_e55cea72-14bc-4ef7-9346-b83df87e2350\">\n",
              "    <style>\n",
              "      .colab-df-generate {\n",
              "        background-color: #E8F0FE;\n",
              "        border: none;\n",
              "        border-radius: 50%;\n",
              "        cursor: pointer;\n",
              "        display: none;\n",
              "        fill: #1967D2;\n",
              "        height: 32px;\n",
              "        padding: 0 0 0 0;\n",
              "        width: 32px;\n",
              "      }\n",
              "\n",
              "      .colab-df-generate:hover {\n",
              "        background-color: #E2EBFA;\n",
              "        box-shadow: 0px 1px 2px rgba(60, 64, 67, 0.3), 0px 1px 3px 1px rgba(60, 64, 67, 0.15);\n",
              "        fill: #174EA6;\n",
              "      }\n",
              "\n",
              "      [theme=dark] .colab-df-generate {\n",
              "        background-color: #3B4455;\n",
              "        fill: #D2E3FC;\n",
              "      }\n",
              "\n",
              "      [theme=dark] .colab-df-generate:hover {\n",
              "        background-color: #434B5C;\n",
              "        box-shadow: 0px 1px 3px 1px rgba(0, 0, 0, 0.15);\n",
              "        filter: drop-shadow(0px 1px 2px rgba(0, 0, 0, 0.3));\n",
              "        fill: #FFFFFF;\n",
              "      }\n",
              "    </style>\n",
              "    <button class=\"colab-df-generate\" onclick=\"generateWithVariable('user_input')\"\n",
              "            title=\"Generate code using this dataframe.\"\n",
              "            style=\"display:none;\">\n",
              "\n",
              "  <svg xmlns=\"http://www.w3.org/2000/svg\" height=\"24px\"viewBox=\"0 0 24 24\"\n",
              "       width=\"24px\">\n",
              "    <path d=\"M7,19H8.4L18.45,9,17,7.55,7,17.6ZM5,21V16.75L18.45,3.32a2,2,0,0,1,2.83,0l1.4,1.43a1.91,1.91,0,0,1,.58,1.4,1.91,1.91,0,0,1-.58,1.4L9.25,21ZM18.45,9,17,7.55Zm-12,3A5.31,5.31,0,0,0,4.9,8.1,5.31,5.31,0,0,0,1,6.5,5.31,5.31,0,0,0,4.9,4.9,5.31,5.31,0,0,0,6.5,1,5.31,5.31,0,0,0,8.1,4.9,5.31,5.31,0,0,0,12,6.5,5.46,5.46,0,0,0,6.5,12Z\"/>\n",
              "  </svg>\n",
              "    </button>\n",
              "    <script>\n",
              "      (() => {\n",
              "      const buttonEl =\n",
              "        document.querySelector('#id_e55cea72-14bc-4ef7-9346-b83df87e2350 button.colab-df-generate');\n",
              "      buttonEl.style.display =\n",
              "        google.colab.kernel.accessAllowed ? 'block' : 'none';\n",
              "\n",
              "      buttonEl.onclick = () => {\n",
              "        google.colab.notebook.generateWithVariable('user_input');\n",
              "      }\n",
              "      })();\n",
              "    </script>\n",
              "  </div>\n",
              "\n",
              "    </div>\n",
              "  </div>\n"
            ],
            "application/vnd.google.colaboratory.intrinsic+json": {
              "type": "dataframe",
              "variable_name": "user_input",
              "summary": "{\n  \"name\": \"user_input\",\n  \"rows\": 1,\n  \"fields\": [\n    {\n      \"column\": \"run_mode\",\n      \"properties\": {\n        \"dtype\": \"string\",\n        \"num_unique_values\": 1,\n        \"samples\": [\n          \"interval\"\n        ],\n        \"semantic_type\": \"\",\n        \"description\": \"\"\n      }\n    },\n    {\n      \"column\": \"target_pace\",\n      \"properties\": {\n        \"dtype\": \"number\",\n        \"std\": null,\n        \"min\": 8,\n        \"max\": 8,\n        \"num_unique_values\": 1,\n        \"samples\": [\n          8\n        ],\n        \"semantic_type\": \"\",\n        \"description\": \"\"\n      }\n    },\n    {\n      \"column\": \"storyline\",\n      \"properties\": {\n        \"dtype\": \"string\",\n        \"num_unique_values\": 1,\n        \"samples\": [\n          \"Wicked\"\n        ],\n        \"semantic_type\": \"\",\n        \"description\": \"\"\n      }\n    }\n  ]\n}"
            }
          },
          "metadata": {},
          "execution_count": 16
        }
      ]
    },
    {
      "cell_type": "code",
      "source": [
        "locations = {'locations': ['Deptford Station', 'Kebab and Pizza House', 'Johnnys DIY and Building Supplies', 'Tower Bridge']}"
      ],
      "metadata": {
        "id": "li1VwL2-fPhP"
      },
      "execution_count": 17,
      "outputs": []
    },
    {
      "cell_type": "code",
      "source": [
        "storyline = user_input['storyline']\n",
        "locations = locations['locations']"
      ],
      "metadata": {
        "id": "oER6_fT8fHEw"
      },
      "execution_count": 18,
      "outputs": []
    },
    {
      "cell_type": "code",
      "source": [
        "#-----STORY GENERATION-------\n",
        "response = model.generate_content(f\"You are a storyteller tasked with creating an engaging narrative set in the world of {str(storyline)} The Goal: The story must be delivered in short, encouraging segments, functioning as a 'mission' for a user who is running. The segments must be tied to specific physical locations along a route (the locations will be provided), with the characters dialogue and actions designed to motivate the runner to maintain or adjust their pace. The Structure: The story must be exactly {len(locations)} segments long. Start: you introduce the setting for the story, give a little bit of background information. The Locations: The following physical locations must be integrated as story checkpoints in sequential order: {str(locations)} The Output Format: The final and only output must be a Pandas Dataframe (or code to create it) containing lattitude, longitude, story_segment columns. The lattitude column will contain the lattitude information about the location at which the story segment will be delivered, the longitude column will contain the corresponding longitude information, and the story_segment column will contain the story segment. The Story_Segment column must contain the full, descriptive text of the narrative segment, ensuring all story text is correctly formatted for pandas DataFrame (e.g., enclosed in double quotes if it contains commas). Do not include any descriptive text, imports, explanations, or code outside of the final, single, executable Python code block to create the dataframe.\")"
      ],
      "metadata": {
        "colab": {
          "base_uri": "https://localhost:8080/",
          "height": 251
        },
        "id": "Kvt70gpvNXqG",
        "outputId": "9137c8bd-d5c4-4fb7-d606-6e583b7579c9"
      },
      "execution_count": 22,
      "outputs": [
        {
          "output_type": "stream",
          "name": "stderr",
          "text": [
            "ERROR:tornado.access:503 POST /v1beta/models/gemini-2.5-flash:generateContent?%24alt=json%3Benum-encoding%3Dint (::1) 27769.14ms\n",
            "ERROR:tornado.access:503 POST /v1beta/models/gemini-2.5-flash:generateContent?%24alt=json%3Benum-encoding%3Dint (::1) 4114.52ms\n",
            "ERROR:tornado.access:503 POST /v1beta/models/gemini-2.5-flash:generateContent?%24alt=json%3Benum-encoding%3Dint (::1) 31024.18ms\n",
            "ERROR:tornado.access:503 POST /v1beta/models/gemini-2.5-flash:generateContent?%24alt=json%3Benum-encoding%3Dint (::1) 29505.27ms\n",
            "ERROR:tornado.access:503 POST /v1beta/models/gemini-2.5-flash:generateContent?%24alt=json%3Benum-encoding%3Dint (::1) 2120.83ms\n",
            "ERROR:tornado.access:503 POST /v1beta/models/gemini-2.5-flash:generateContent?%24alt=json%3Benum-encoding%3Dint (::1) 15021.33ms\n",
            "ERROR:tornado.access:503 POST /v1beta/models/gemini-2.5-flash:generateContent?%24alt=json%3Benum-encoding%3Dint (::1) 26206.89ms\n",
            "ERROR:tornado.access:503 POST /v1beta/models/gemini-2.5-flash:generateContent?%24alt=json%3Benum-encoding%3Dint (::1) 2297.16ms\n",
            "ERROR:tornado.access:503 POST /v1beta/models/gemini-2.5-flash:generateContent?%24alt=json%3Benum-encoding%3Dint (::1) 1541.12ms\n",
            "ERROR:tornado.access:503 POST /v1beta/models/gemini-2.5-flash:generateContent?%24alt=json%3Benum-encoding%3Dint (::1) 34892.97ms\n",
            "ERROR:tornado.access:503 POST /v1beta/models/gemini-2.5-flash:generateContent?%24alt=json%3Benum-encoding%3Dint (::1) 4244.91ms\n",
            "ERROR:tornado.access:503 POST /v1beta/models/gemini-2.5-flash:generateContent?%24alt=json%3Benum-encoding%3Dint (::1) 1743.00ms\n"
          ]
        }
      ]
    },
    {
      "cell_type": "code",
      "source": [
        "#----ADDITIONAL PROMPTS GENERATION-----\n",
        "response = model.generate_content(\"\")\n"
      ],
      "metadata": {
        "id": "M-zaFIJ-QlzA"
      },
      "execution_count": null,
      "outputs": []
    },
    {
      "cell_type": "code",
      "source": [
        "#-----STORY TRIGGERING------"
      ],
      "metadata": {
        "id": "S575f-wSQqNX"
      },
      "execution_count": null,
      "outputs": []
    },
    {
      "cell_type": "code",
      "source": [
        "# '''Code used to extract speed and coordinate data from the\n",
        "# .fit file.'''\n",
        "# tracking_data = pd.read_csv(\"track_points.csv\")\n",
        "# timecoords = tracking_data[['X', 'Y', 'time']]\n",
        "\n",
        "# timecoords['ts'] = pd.to_datetime(timecoords.time)\n",
        "\n",
        "# # Convert degrees to radians\n",
        "# lat1 = np.radians(timecoords['X'].shift())\n",
        "# lon1 = np.radians(timecoords['Y'].shift())\n",
        "# lat2 = np.radians(timecoords['X'])\n",
        "# lon2 = np.radians(timecoords['Y'])\n",
        "\n",
        "# # Earth's radius in meters\n",
        "# R = 6371000\n",
        "\n",
        "# dlat = lat2 - lat1\n",
        "# dlon = lon2 - lon1\n",
        "\n",
        "# a = np.sin(dlat/2)**2 + np.cos(lat1) * np.cos(lat2) * np.sin(dlon/2)**2\n",
        "# c = 2 * np.arctan2(np.sqrt(a), np.sqrt(1-a))\n",
        "# timecoords['distance'] = R * c\n",
        "\n",
        "# timecoords['dt'] = timecoords['ts'].diff().dt.total_seconds()\n",
        "# timecoords['speed_m_s'] = timecoords['distance'] / timecoords['dt']\n",
        "# timecoords['speed_kmh'] = timecoords['speed_m_s'] * 3.6\n",
        "\n",
        "# timecoords.to_csv('storymap_coordinates.csv')\n"
      ],
      "metadata": {
        "colab": {
          "base_uri": "https://localhost:8080/"
        },
        "id": "WUlvOYt5KDCF",
        "outputId": "fc538b47-22af-4426-c62c-5dc3059564b3"
      },
      "execution_count": 44,
      "outputs": [
        {
          "output_type": "stream",
          "name": "stderr",
          "text": [
            "/tmp/ipython-input-673703343.py:1: SettingWithCopyWarning: \n",
            "A value is trying to be set on a copy of a slice from a DataFrame.\n",
            "Try using .loc[row_indexer,col_indexer] = value instead\n",
            "\n",
            "See the caveats in the documentation: https://pandas.pydata.org/pandas-docs/stable/user_guide/indexing.html#returning-a-view-versus-a-copy\n",
            "  timecoords['ts'] = pd.to_datetime(timecoords.time)\n",
            "/tmp/ipython-input-673703343.py:17: SettingWithCopyWarning: \n",
            "A value is trying to be set on a copy of a slice from a DataFrame.\n",
            "Try using .loc[row_indexer,col_indexer] = value instead\n",
            "\n",
            "See the caveats in the documentation: https://pandas.pydata.org/pandas-docs/stable/user_guide/indexing.html#returning-a-view-versus-a-copy\n",
            "  timecoords['distance'] = R * c\n",
            "/tmp/ipython-input-673703343.py:19: SettingWithCopyWarning: \n",
            "A value is trying to be set on a copy of a slice from a DataFrame.\n",
            "Try using .loc[row_indexer,col_indexer] = value instead\n",
            "\n",
            "See the caveats in the documentation: https://pandas.pydata.org/pandas-docs/stable/user_guide/indexing.html#returning-a-view-versus-a-copy\n",
            "  timecoords['dt'] = timecoords['ts'].diff().dt.total_seconds()\n",
            "/tmp/ipython-input-673703343.py:20: SettingWithCopyWarning: \n",
            "A value is trying to be set on a copy of a slice from a DataFrame.\n",
            "Try using .loc[row_indexer,col_indexer] = value instead\n",
            "\n",
            "See the caveats in the documentation: https://pandas.pydata.org/pandas-docs/stable/user_guide/indexing.html#returning-a-view-versus-a-copy\n",
            "  timecoords['speed_m_s'] = timecoords['distance'] / timecoords['dt']\n",
            "/tmp/ipython-input-673703343.py:21: SettingWithCopyWarning: \n",
            "A value is trying to be set on a copy of a slice from a DataFrame.\n",
            "Try using .loc[row_indexer,col_indexer] = value instead\n",
            "\n",
            "See the caveats in the documentation: https://pandas.pydata.org/pandas-docs/stable/user_guide/indexing.html#returning-a-view-versus-a-copy\n",
            "  timecoords['speed_kmh'] = timecoords['speed_m_s'] * 3.6\n"
          ]
        }
      ]
    },
    {
      "cell_type": "code",
      "source": [],
      "metadata": {
        "id": "xPpviVE6LP6j"
      },
      "execution_count": null,
      "outputs": []
    },
    {
      "cell_type": "code",
      "source": [
        "response = model.generate_content(\"\")"
      ],
      "metadata": {
        "id": "PNkwGmHrLDDS"
      },
      "execution_count": null,
      "outputs": []
    },
    {
      "cell_type": "code",
      "source": [
        "uploaded = files.upload()\n",
        "\n",
        "filename = next(iter(uploaded.keys()))\n",
        "\n",
        "response = model.generate_content(\n",
        "    [\"Describe this image:\", genai.upload_file(filename)]\n",
        ")\n",
        "\n",
        "print(response.text)"
      ],
      "metadata": {
        "id": "CKLJe9N9G0DG"
      },
      "execution_count": null,
      "outputs": []
    },
    {
      "cell_type": "code",
      "source": [
        "\n",
        "response = model.generate_content(\"\")\n",
        "print(response.text)\n"
      ],
      "metadata": {
        "colab": {
          "base_uri": "https://localhost:8080/",
          "height": 231
        },
        "id": "6C_pdO9uFQFf",
        "outputId": "726456a5-c2a0-4ef7-f753-a42eaa25b401"
      },
      "execution_count": 12,
      "outputs": [
        {
          "output_type": "stream",
          "name": "stdout",
          "text": [
            "Within the skull, a cosmos, deep and grand,\n",
            "Where thoughts ignite and memories expand.\n",
            "A dance of cells, electrical and vast,\n",
            "The mind's own map, from future to the past.\n",
            "Neuroscience seeks each synapse, hidden bright,\n",
            "To shed upon its wonders, brilliant light.\n",
            "Within the skull, a cosmos, deep and grand,\n",
            "Where thoughts ignite and memories expand.\n",
            "A dance of cells, electrical and vast,\n",
            "The mind's own map, from future to the past.\n",
            "Neuroscience seeks each synapse, hidden bright,\n",
            "To shed upon its wonders, brilliant light.\n"
          ]
        }
      ]
    }
  ]
}